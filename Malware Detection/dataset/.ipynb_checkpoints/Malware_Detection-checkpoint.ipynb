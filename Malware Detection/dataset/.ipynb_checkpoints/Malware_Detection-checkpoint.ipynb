{
 "cells": [
  {
   "cell_type": "code",
   "execution_count": 2,
   "metadata": {
    "id": "73mLrMB7e-1F"
   },
   "outputs": [
    {
     "ename": "ModuleNotFoundError",
     "evalue": "No module named 'androguard'",
     "output_type": "error",
     "traceback": [
      "\u001b[1;31m---------------------------------------------------------------------------\u001b[0m",
      "\u001b[1;31mModuleNotFoundError\u001b[0m                       Traceback (most recent call last)",
      "Cell \u001b[1;32mIn[2], line 15\u001b[0m\n\u001b[0;32m     13\u001b[0m \u001b[38;5;28;01mfrom\u001b[39;00m \u001b[38;5;21;01msklearn\u001b[39;00m\u001b[38;5;21;01m.\u001b[39;00m\u001b[38;5;21;01mmetrics\u001b[39;00m \u001b[38;5;28;01mimport\u001b[39;00m f1_score, precision_recall_curve, recall_score, roc_curve, precision_score\n\u001b[0;32m     14\u001b[0m \u001b[38;5;28;01mfrom\u001b[39;00m \u001b[38;5;21;01msklearn\u001b[39;00m\u001b[38;5;21;01m.\u001b[39;00m\u001b[38;5;21;01mexceptions\u001b[39;00m \u001b[38;5;28;01mimport\u001b[39;00m ConvergenceWarning\n\u001b[1;32m---> 15\u001b[0m \u001b[38;5;28;01mfrom\u001b[39;00m \u001b[38;5;21;01mandroguard\u001b[39;00m\u001b[38;5;21;01m.\u001b[39;00m\u001b[38;5;21;01mcore\u001b[39;00m\u001b[38;5;21;01m.\u001b[39;00m\u001b[38;5;21;01mbytecodes\u001b[39;00m\u001b[38;5;21;01m.\u001b[39;00m\u001b[38;5;21;01mapk\u001b[39;00m \u001b[38;5;28;01mimport\u001b[39;00m APK\n\u001b[0;32m     16\u001b[0m \u001b[38;5;28;01mfrom\u001b[39;00m \u001b[38;5;21;01mandroguard\u001b[39;00m\u001b[38;5;21;01m.\u001b[39;00m\u001b[38;5;21;01mcore\u001b[39;00m\u001b[38;5;21;01m.\u001b[39;00m\u001b[38;5;21;01mbytecodes\u001b[39;00m\u001b[38;5;21;01m.\u001b[39;00m\u001b[38;5;21;01mdvm\u001b[39;00m \u001b[38;5;28;01mimport\u001b[39;00m DalvikVMFormat\n\u001b[0;32m     17\u001b[0m \u001b[38;5;28;01mfrom\u001b[39;00m \u001b[38;5;21;01mandroguard\u001b[39;00m\u001b[38;5;21;01m.\u001b[39;00m\u001b[38;5;21;01mmisc\u001b[39;00m \u001b[38;5;28;01mimport\u001b[39;00m AnalyzeAPK\n",
      "\u001b[1;31mModuleNotFoundError\u001b[0m: No module named 'androguard'"
     ]
    }
   ],
   "source": [
    "import re\n",
    "import numpy as np\n",
    "import pandas as pd\n",
    "import seaborn as sns\n",
    "import os\n",
    "import time\n",
    "import pickle\n",
    "import matplotlib.pyplot as plt\n",
    "import warnings\n",
    "from collections import Counter\n",
    "from sklearn.model_selection import train_test_split, cross_val_score\n",
    "from sklearn.ensemble import RandomForestClassifier\n",
    "from sklearn.metrics import f1_score, precision_recall_curve, recall_score, roc_curve, precision_score\n",
    "from sklearn.exceptions import ConvergenceWarning\n",
    "from androguard.core.bytecodes.apk import APK\n",
    "from androguard.core.bytecodes.dvm import DalvikVMFormat\n",
    "from androguard.misc import AnalyzeAPK\n",
    "from mlxtend.plotting import plot_confusion_matrix\n",
    "import requests\n",
    "import json"
   ]
  },
  {
   "cell_type": "code",
   "execution_count": null,
   "metadata": {
    "id": "6YiA23wWfLc0"
   },
   "outputs": [],
   "source": [
    "warnings.filterwarnings(\"ignore\", category=UserWarning)\n",
    "warnings.filterwarnings(\"ignore\", category=FutureWarning)\n",
    "warnings.filterwarnings(\"ignore\", category=ConvergenceWarning)"
   ]
  },
  {
   "cell_type": "code",
   "execution_count": null,
   "metadata": {
    "id": "IFMD03glfRhX"
   },
   "outputs": [],
   "source": [
    "# Load dataset and feature categories\n",
    "data = pd.read_csv(\"/dataset/malware-dataset.csv\", encoding=\"utf-8\", low_memory=False, na_values=\"?\")\n",
    "feature_df = pd.read_csv(\"/dataset/features-categories.csv\", header=None, names=[\"X\", \"Category\"])"
   ]
  },
  {
   "cell_type": "code",
   "execution_count": null,
   "metadata": {
    "id": "TZfQ4DwugtzA"
   },
   "outputs": [],
   "source": [
    "# Map target class\n",
    "data[\"class\"] = data[\"class\"].map({\"B\": 0, \"S\": 1})"
   ]
  },
  {
   "cell_type": "code",
   "execution_count": null,
   "metadata": {
    "colab": {
     "base_uri": "https://localhost:8080/",
     "height": 449
    },
    "id": "97X8ewezguer",
    "outputId": "a051f099-5614-464a-b97f-6f9afc0c5e83"
   },
   "outputs": [],
   "source": [
    "# Drop missing values and plot class distribution\n",
    "data = data.dropna()\n",
    "plt.figure()\n",
    "ax = sns.countplot(data=data, x=\"class\")\n",
    "for container in ax.containers:\n",
    "    ax.bar_label(container)\n",
    "plt.show()"
   ]
  },
  {
   "cell_type": "code",
   "execution_count": null,
   "metadata": {
    "id": "6UP2o5qtgwsf"
   },
   "outputs": [],
   "source": [
    "# Split data into features (X) and target (y)\n",
    "X = data.drop(\"class\", axis=1)\n",
    "y = data[\"class\"]\n",
    "X_train, X_test, y_train, y_test = train_test_split(X, y, test_size=0.2, random_state=42)"
   ]
  },
  {
   "cell_type": "code",
   "execution_count": null,
   "metadata": {
    "colab": {
     "base_uri": "https://localhost:8080/"
    },
    "id": "cKiz8_fRgyRo",
    "outputId": "9cd87d77-5396-4147-8949-12ec4ce5baf3"
   },
   "outputs": [],
   "source": [
    "# Train a randomforest classifier\n",
    "rf = RandomForestClassifier()\n",
    "start = time.time()\n",
    "rf.fit(X_train, y_train)\n",
    "end = time.time()\n",
    "rf_time = end - start\n",
    "print(\"Random Forest Train Time:\", rf_time)"
   ]
  },
  {
   "cell_type": "code",
   "execution_count": null,
   "metadata": {
    "id": "Mrg0a4ZRg0GF"
   },
   "outputs": [],
   "source": [
    "# Predictions\n",
    "rf_pred_train = rf.predict(X_train)\n",
    "rf_pred_test = rf.predict(X_test)"
   ]
  },
  {
   "cell_type": "code",
   "execution_count": null,
   "metadata": {
    "id": "BO4AMGzhg9Q4"
   },
   "outputs": [],
   "source": [
    "from sklearn.metrics import accuracy_score, classification_report, confusion_matrix"
   ]
  },
  {
   "cell_type": "code",
   "execution_count": null,
   "metadata": {
    "colab": {
     "base_uri": "https://localhost:8080/"
    },
    "id": "-Qh590-2hGab",
    "outputId": "dc710bab-c63d-4642-e575-ac0f8c308a2b"
   },
   "outputs": [],
   "source": [
    "rf_train_score = accuracy_score(rf_pred_train, y_train)\n",
    "rf_test_score = accuracy_score(rf_pred_test, y_test)\n",
    "print(\"Random Forest Train Score:\", rf_train_score)\n",
    "print(\"Random Forest Test Score:\", rf_test_score)"
   ]
  },
  {
   "cell_type": "code",
   "execution_count": null,
   "metadata": {
    "colab": {
     "base_uri": "https://localhost:8080/"
    },
    "id": "bmp6kpeHhJCw",
    "outputId": "022f1235-3529-4691-8812-5dd60f8b73e6"
   },
   "outputs": [],
   "source": [
    "rf_precision_score = precision_score(y_test, rf_pred_test)\n",
    "rf_f1_score = f1_score(y_test, rf_pred_test)\n",
    "rf_recall_score = recall_score(y_test, rf_pred_test)\n",
    "rf_accuracy_score = accuracy_score(y_test, rf_pred_test)\n",
    "print(\"Random Forest Precision Score:\", rf_precision_score)\n",
    "print(\"Random Forest F1 Score:\", rf_f1_score)\n",
    "print(\"Random Forest Recall Score:\", rf_recall_score)\n",
    "print(\"Random Forest Accuracy Score:\", rf_accuracy_score)"
   ]
  },
  {
   "cell_type": "code",
   "execution_count": null,
   "metadata": {
    "colab": {
     "base_uri": "https://localhost:8080/"
    },
    "id": "ZRngo2y4hLtw",
    "outputId": "176f42f6-0dba-4f17-93d6-963ad1653aa5"
   },
   "outputs": [],
   "source": [
    "print(classification_report(y_test, rf_pred_test))"
   ]
  },
  {
   "cell_type": "code",
   "execution_count": null,
   "metadata": {
    "colab": {
     "base_uri": "https://localhost:8080/",
     "height": 488
    },
    "id": "Q5TyT-KghOKV",
    "outputId": "62ea1db3-f9ee-45a2-af39-4692d6790987"
   },
   "outputs": [],
   "source": [
    "rf_cm = confusion_matrix(y_test, rf_pred_test)\n",
    "fig, ax = plot_confusion_matrix(conf_mat=rf_cm, show_absolute=True, show_normed=True, colorbar=True, class_names=[\"benign\", \"malware\"])\n",
    "plt.show()"
   ]
  },
  {
   "cell_type": "code",
   "execution_count": null,
   "metadata": {
    "colab": {
     "base_uri": "https://localhost:8080/",
     "height": 430
    },
    "id": "CAPytWg1hP4f",
    "outputId": "16703368-b5a1-4a51-beb1-ad33f114904d"
   },
   "outputs": [],
   "source": [
    "feat_importances = pd.Series(rf.feature_importances_, index=X.columns)\n",
    "feat_importances.nlargest(30).plot(kind='barh')\n",
    "plt.show()"
   ]
  },
  {
   "cell_type": "code",
   "execution_count": null,
   "metadata": {
    "id": "XboE59tQiI99"
   },
   "outputs": [],
   "source": [
    "# Extracted features from the malware APK\n",
    "permissions_list = feature_df[feature_df[\"Category\"] == \"Manifest Permission\"].X.unique()\n",
    "api_call_signatures = feature_df[feature_df[\"Category\"] == \"API call signature\"].X.unique()\n",
    "intents = feature_df[feature_df[\"Category\"] == \"Intent\"].X.unique()\n",
    "keywords = feature_df[feature_df[\"Category\"] == \"Commands signature\"].X.unique()\n",
    "\n",
    "columns = [\"filename\"]\n",
    "for col in data.columns:\n",
    "    columns.append(col)\n",
    "test_df = pd.DataFrame(columns=columns)\n",
    "\n",
    "# Set APK file path\n",
    "apk_file_path = \"/content/8b4e3a277e317328b9bc4bc40a9d3a66b79ffde193717cd11b1d4d20ba451825.apk\"\n",
    "test_df.loc[0, \"filename\"] = apk_file_path"
   ]
  },
  {
   "cell_type": "code",
   "execution_count": null,
   "metadata": {
    "colab": {
     "base_uri": "https://localhost:8080/"
    },
    "id": "tNA39z4YiNxZ",
    "outputId": "9c862961-5c96-4119-d89d-4430565849cb"
   },
   "outputs": [],
   "source": [
    "a = APK(apk_file_path)\n",
    "d = DalvikVMFormat(a.get_dex())\n",
    "\n",
    "permissions = a.get_permissions()\n",
    "manifest = a.get_android_manifest_xml()\n",
    "intent_filters = manifest.findall(\".//intent-filter\")\n",
    "\n",
    "found_permissions = []\n",
    "found_api_signatures = []\n",
    "found_intents = []\n",
    "found_keywords = []\n",
    "\n",
    "# Check for permissions\n",
    "for permission in permissions:\n",
    "    permission = permission.split(\".\")[-1]\n",
    "    if permission in permissions_list:\n",
    "        found_permissions.append(permission)\n",
    "\n",
    "for permission in permissions_list:\n",
    "    if permission in found_permissions:\n",
    "        test_df[permission] = 1\n",
    "    else:\n",
    "        test_df[permission] = 0\n",
    "\n",
    "# Check for API calls\n",
    "for method in d.get_methods():\n",
    "    descriptor = method.get_descriptor()\n",
    "    if isinstance(descriptor, bytes):\n",
    "        descriptor = descriptor.decode('utf-8')\n",
    "\n",
    "    for api_call in api_call_signatures:\n",
    "        if re.search(api_call, descriptor):\n",
    "            found_api_signatures.append(api_call)\n",
    "\n",
    "for api_call in api_call_signatures:\n",
    "    if api_call in found_api_signatures:\n",
    "        test_df[api_call] = 1\n",
    "    else:\n",
    "        test_df[api_call] = 0\n",
    "\n",
    "# Check for intents\n",
    "for intent_filter in intent_filters:\n",
    "    action_elements = intent_filter.findall(\".//action\")\n",
    "    for action_element in action_elements:\n",
    "        action_value = action_element.get(\"{http://schemas.android.com/apk/res/android}name\")\n",
    "        for intent in intents:\n",
    "            if re.search(intent, action_value):\n",
    "                found_intents.append(intent)\n",
    "\n",
    "for intent in intents:\n",
    "    if intent in found_intents:\n",
    "        test_df[intent] = 1\n",
    "    else:\n",
    "        test_df[intent] = 0\n",
    "\n",
    "# Check for command keywords\n",
    "for method in d.get_methods():\n",
    "    for api_call in api_call_signatures:\n",
    "        descriptor = method.get_descriptor().decode('utf-8')\n",
    "        if re.search(api_call, descriptor):\n",
    "            found_api_signatures.append(api_call)\n",
    "\n",
    "for keyword in keywords:\n",
    "    if keyword in found_keywords:\n",
    "        test_df[keyword] = 1\n",
    "    else:\n",
    "        test_df[keyword] = 0\n",
    "\n",
    "# Ensure no missing data\n",
    "test_df.isnull().sum().sum()\n",
    "\n",
    "dropped = test_df.drop(\"filename\", axis=1)\n",
    "dropped = dropped.fillna(0)\n",
    "\n",
    "if 'class' in dropped.columns:\n",
    "    dropped = dropped.drop('class', axis=1)"
   ]
  },
  {
   "cell_type": "code",
   "execution_count": null,
   "metadata": {
    "colab": {
     "base_uri": "https://localhost:8080/"
    },
    "id": "sWQSlfRDiU42",
    "outputId": "cfba5255-9d7f-4810-f54a-1e22db5c88f5"
   },
   "outputs": [],
   "source": [
    "# Model prediction\n",
    "prediction = rf.predict(dropped)\n",
    "\n",
    "if prediction[0] == 0:\n",
    "  print(\"The APK file is predicted to be benign.\")\n",
    "else:\n",
    "  print(\"The APK file is predicted to be malware.\")"
   ]
  }
 ],
 "metadata": {
  "colab": {
   "provenance": []
  },
  "kernelspec": {
   "display_name": "Python 3 (ipykernel)",
   "language": "python",
   "name": "python3"
  },
  "language_info": {
   "codemirror_mode": {
    "name": "ipython",
    "version": 3
   },
   "file_extension": ".py",
   "mimetype": "text/x-python",
   "name": "python",
   "nbconvert_exporter": "python",
   "pygments_lexer": "ipython3",
   "version": "3.12.4"
  }
 },
 "nbformat": 4,
 "nbformat_minor": 4
}
